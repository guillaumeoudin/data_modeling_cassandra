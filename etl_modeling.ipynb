{
 "cells": [
  {
   "cell_type": "markdown",
   "metadata": {},
   "source": [
    "# Part I. ETL Pipeline for Pre-Processing the Files"
   ]
  },
  {
   "cell_type": "markdown",
   "metadata": {},
   "source": [
    "## PLEASE RUN THE FOLLOWING CODE FOR PRE-PROCESSING THE FILES"
   ]
  },
  {
   "cell_type": "markdown",
   "metadata": {},
   "source": [
    "#### Import Python packages "
   ]
  },
  {
   "cell_type": "code",
   "execution_count": 128,
   "metadata": {},
   "outputs": [],
   "source": [
    "# Import relevant Python packages \n",
    "import pandas as pd\n",
    "import cassandra\n",
    "import re\n",
    "import os\n",
    "import glob\n",
    "import numpy as np\n",
    "import json\n",
    "import csv\n",
    "import collections"
   ]
  },
  {
   "cell_type": "markdown",
   "metadata": {},
   "source": [
    "#### Creating list of filepaths to process original event csv data files"
   ]
  },
  {
   "cell_type": "code",
   "execution_count": 129,
   "metadata": {},
   "outputs": [
    {
     "name": "stdout",
     "output_type": "stream",
     "text": [
      "/home/guillaume/documents/data/udacity/data_engineering/data_modelisation/projects/data_modeling_cassandra\n",
      "/home/guillaume/documents/data/udacity/data_engineering/data_modelisation/projects/data_modeling_cassandra/event_data\n"
     ]
    }
   ],
   "source": [
    "# checking your current working directory\n",
    "print(os.getcwd())\n",
    "\n",
    "# Get your current folder and subfolder event data\n",
    "filepath = os.getcwd() + '/event_data'\n",
    "\n",
    "# Create a for loop to create a list of files and collect each filepath\n",
    "for root, dirs, files in os.walk(filepath):\n",
    "    print(root)\n",
    "# join the file path and roots with the subdirectories using glob\n",
    "    file_path_list = glob.glob(os.path.join(root,'*'))\n",
    "#     print(file_path_list[0:3])"
   ]
  },
  {
   "cell_type": "markdown",
   "metadata": {},
   "source": [
    "#### Processing the files to create the data file csv that will be used for Apache Casssandra tables"
   ]
  },
  {
   "cell_type": "code",
   "execution_count": 130,
   "metadata": {},
   "outputs": [],
   "source": [
    "# initiating an empty list of rows that will be generated from each file\n",
    "full_data_rows_list = [] \n",
    "    \n",
    "# for every filepath in the file path list \n",
    "for f in file_path_list:\n",
    "\n",
    "# reading csv file \n",
    "    with open(f, 'r', encoding = 'utf8', newline='') as csvfile: \n",
    "        # creating a csv reader object \n",
    "        csvreader = csv.reader(csvfile) \n",
    "        next(csvreader)\n",
    "        \n",
    " # extracting each data row one by one and append it        \n",
    "        for line in csvreader:\n",
    "            #print(line)\n",
    "            full_data_rows_list.append(line) \n",
    "            \n",
    "# uncomment the code below if you would like to get total number of rows \n",
    "#print(len(full_data_rows_list))\n",
    "# uncomment the code below if you would like to check to see what the list of event data rows will look like\n",
    "#print(full_data_rows_list)\n",
    "\n",
    "# creating a smaller event data csv file called event_datafile_full csv that will be used to insert data into the \\\n",
    "# Apache Cassandra tables\n",
    "csv.register_dialect('myDialect', quoting=csv.QUOTE_ALL, skipinitialspace=True)\n",
    "\n",
    "with open('event_datafile_new.csv', 'w', encoding = 'utf8', newline='') as f:\n",
    "    writer = csv.writer(f, dialect='myDialect')\n",
    "    writer.writerow(['artist','firstName','gender','itemInSession','lastName','length',\\\n",
    "                'level','location','sessionId','song','userId'])\n",
    "    for row in full_data_rows_list:\n",
    "        if (row[0] == ''):\n",
    "            continue\n",
    "        writer.writerow((row[0], row[2], row[3], row[4], row[5], row[6], row[7], row[8], row[12], row[13], row[16]))\n"
   ]
  },
  {
   "cell_type": "code",
   "execution_count": 131,
   "metadata": {},
   "outputs": [
    {
     "name": "stdout",
     "output_type": "stream",
     "text": [
      "6821\n"
     ]
    }
   ],
   "source": [
    "# check the number of rows in your csv file\n",
    "with open('event_datafile_new.csv', 'r', encoding = 'utf8') as f:\n",
    "    print(sum(1 for line in f))"
   ]
  },
  {
   "cell_type": "markdown",
   "metadata": {},
   "source": [
    "The image below is a screenshot of what the denormalized data should appear like in the <font color=red>**event_datafile_new.csv**</font> after the code above is run:<br>\n",
    "\n",
    "<img src=\"images/image_event_datafile_new.jpg\">"
   ]
  },
  {
   "cell_type": "markdown",
   "metadata": {},
   "source": [
    "## Connect to the local Apache Cassandra database"
   ]
  },
  {
   "cell_type": "code",
   "execution_count": 132,
   "metadata": {},
   "outputs": [
    {
     "name": "stdout",
     "output_type": "stream",
     "text": [
      "Creating network \"data_modeling_cassandra_cass-local-network\" with driver \"bridge\"\n",
      "Creating cass-nodeA ... \n",
      "\u001b[1Bting cass-nodeA ... \u001b[32mdone\u001b[0mCONTAINER ID   IMAGE       COMMAND                  CREATED        STATUS                  PORTS                                                                                                                NAMES\n",
      "f674ca9ad583   cassandra   \"docker-entrypoint.s…\"   1 second ago   Up Less than a second   7001/tcp, 0.0.0.0:7000->7000/tcp, :::7000->7000/tcp, 7199/tcp, 0.0.0.0:9042->9042/tcp, :::9042->9042/tcp, 9160/tcp   cass-nodeA\n"
     ]
    }
   ],
   "source": [
    "#The following will setup and run a local Apache Cassandra database inside a Docker container\n",
    "#We automatize this process using docker-compose (you need it installed on your system for this to work)\n",
    "!docker-compose up -d\n",
    "!docker ps"
   ]
  },
  {
   "cell_type": "markdown",
   "metadata": {},
   "source": [
    "#### Creating a Cluster"
   ]
  },
  {
   "cell_type": "code",
   "execution_count": 133,
   "metadata": {},
   "outputs": [],
   "source": [
    "# This should make a connection to a Cassandra instance your local machine \n",
    "# (127.0.0.1)\n",
    "\n",
    "from cassandra.cluster import Cluster\n",
    "\n",
    "try: \n",
    "    cluster = Cluster(['127.0.0.1']) # Local instance of Apache Cassandra, created with docker\n",
    "    session = cluster.connect() # establishing connection, setting up session and begin executing queries\n",
    "except Exception as e:\n",
    "    print(e)"
   ]
  },
  {
   "cell_type": "markdown",
   "metadata": {},
   "source": [
    "#### Create Keyspace"
   ]
  },
  {
   "cell_type": "code",
   "execution_count": 134,
   "metadata": {},
   "outputs": [],
   "source": [
    "try:\n",
    "    session.execute(\"\"\"\n",
    "    CREATE KEYSPACE IF NOT EXISTS cassandra_project\n",
    "    WITH REPLICATION = \n",
    "    { 'class' : 'SimpleStrategy', 'replication_factor' : 1 }\"\"\"\n",
    ")\n",
    "\n",
    "except Exception as e:\n",
    "    print(e)"
   ]
  },
  {
   "cell_type": "markdown",
   "metadata": {},
   "source": [
    "#### Set Keyspace"
   ]
  },
  {
   "cell_type": "code",
   "execution_count": 135,
   "metadata": {},
   "outputs": [],
   "source": [
    "try:\n",
    "    session.set_keyspace('cassandra_project')\n",
    "except Exception as e:\n",
    "    print(e)"
   ]
  },
  {
   "cell_type": "markdown",
   "metadata": {},
   "source": [
    "## Questions the analytics teams wants answered\n",
    "\n",
    "**Question 1 :** Give me the artist, song title and song's length in the music app history that was heard during  sessionId = 338, and itemInSession  = 4\n",
    "\n",
    "\n",
    "**Question 2 :** Give me only the following: name of artist, song (sorted by itemInSession) and user (first and last name) for userid = 10, sessionid = 182\n",
    "    \n",
    "\n",
    "**Question 3 :** Give me every user name (first and last) in my music app history who listened to the song 'All Hands Against His Own'\n",
    "\n",
    "\n"
   ]
  },
  {
   "cell_type": "markdown",
   "metadata": {},
   "source": [
    "## Question 1\n",
    "\n",
    "The expected results are name of the artist, title of the song and length of the track based on sessionId and itemInSession.\n",
    "\n",
    "Since we  want to retrieve data, we're going to design a **SELECT** statement. We can translate the question into the following query :\n",
    "\n",
    "```sql\n",
    "SELECT name of the artist, title of the song, length of the song\n",
    "FROM TABLE_NAME\n",
    "WHERE sessionId = 338 AND itemInSession = 4\n",
    "```\n",
    "\n",
    "As we know the SELECT query and since we are working with a NoSQL database, we will now CREATE our table to effectively answer the query. We will add NOT EXISTS to the CREATE statement to check if the table exists and only create the table if it does not exist.\n",
    "\n",
    "- TABLE NAME: We will name this table **song_session** as per Rubric requirements for tables names as alphanumeric; also as the details of the table is for songs, the name seems relevant.\n",
    "- COLUMNS : We need the name of the artist, the title of the song and the length of the track. Hence we will select and name our columns **artist_name, song_title, song_length, session_id, item_in_session**\n",
    "- PRIMARY KEY: The primary key for the table should uniquely identify each row. We need results based on session_id and item_in_session; so we need these both as the primary key. Selecting only one will throw a filtering error as we have not set item_in_session in the primary key, also ALLOW_FILTERING is not an Apache Cassandra good practice and thus not allowed for the project)*"
   ]
  },
  {
   "cell_type": "code",
   "execution_count": 136,
   "metadata": {},
   "outputs": [],
   "source": [
    "#Creating the table with appropriate columns to answer the query\n",
    "\n",
    "query = \"\"\"\n",
    "CREATE TABLE IF NOT EXISTS song_session (\n",
    "session_id INT,\n",
    "item_in_session INT,\n",
    "artist_name TEXT,\n",
    "song_title TEXT,\n",
    "song_length FLOAT, \n",
    "PRIMARY KEY (session_id, item_in_session)\n",
    ")\n",
    "\"\"\"\n",
    "\n",
    "try:\n",
    "    session.execute(drop_query)\n",
    "    session.execute(query)\n",
    "except Exception as e:\n",
    "    print(e)        "
   ]
  },
  {
   "cell_type": "code",
   "execution_count": 137,
   "metadata": {
    "scrolled": false
   },
   "outputs": [],
   "source": [
    "#Inserting data into the newly created table\n",
    "\n",
    "file = 'event_datafile_new.csv'\n",
    "\n",
    "with open(file, encoding = 'utf8') as f:\n",
    "    \n",
    "    csvreader = csv.reader(f)\n",
    "    next(csvreader) # this skips the header\n",
    "    \n",
    "    for line in csvreader:\n",
    "        query = \"\"\"\n",
    "        INSERT INTO song_session (\n",
    "        session_id,\n",
    "        item_in_session,\n",
    "        artist_name,\n",
    "        song_title,\n",
    "        song_length\n",
    "        )\n",
    "        \"\"\"\n",
    "        query = query + \" VALUES (%s, %s, %s, %s, %s)\"\n",
    "        \n",
    "        try:\n",
    "            session.execute(query, (int(line[8]), int(line[3]), line[0], line[9], float(line[5])))\n",
    "        except Exception as e:\n",
    "            print(e)"
   ]
  },
  {
   "cell_type": "markdown",
   "metadata": {},
   "source": [
    "**Question 1:** Give me the artist, song title and song's length in the music app history that was heard during  sessionId = 338, and itemInSession  = 4\n",
    "\n",
    "translates into\n",
    "\n",
    "**Query 1:**\n",
    "```sql\n",
    "SELECT artist_name, song_title, song_length\n",
    "FROM song_session\n",
    "WHERE session_id = 338 AND item_in_session = 4\n",
    "```"
   ]
  },
  {
   "cell_type": "code",
   "execution_count": 138,
   "metadata": {
    "scrolled": true
   },
   "outputs": [
    {
     "data": {
      "text/html": [
       "<style  type=\"text/css\" >\n",
       "</style><table id=\"T_60a12_\" style=\"font-size: 15px\"><thead>    <tr>        <th class=\"col_heading level0 col0\" >artist_name</th>        <th class=\"col_heading level0 col1\" >song_title</th>    </tr></thead><tbody>\n",
       "                <tr>\n",
       "                                <td id=\"T_60a12_row0_col0\" class=\"data row0 col0\" >Faithless</td>\n",
       "                        <td id=\"T_60a12_row0_col1\" class=\"data row0 col1\" >Music Matters (Mark Knight Dub)</td>\n",
       "            </tr>\n",
       "    </tbody></table>"
      ],
      "text/plain": [
       "<pandas.io.formats.style.Styler at 0x7f598e0b78b0>"
      ]
     },
     "execution_count": 138,
     "metadata": {},
     "output_type": "execute_result"
    }
   ],
   "source": [
    "#Running this cell will execute the SELECT query and print the data retrieved from the Cassandra DB\n",
    "\n",
    "query = \"\"\"\n",
    "SELECT artist_name, song_title, song_length\n",
    "FROM song_session\n",
    "WHERE session_id = 338 AND item_in_session = 4\n",
    "\"\"\"\n",
    "try:\n",
    "    rows = session.execute(query)\n",
    "except Exception as e:\n",
    "    print(e)\n",
    "\n",
    "\n",
    "q1_result = {}\n",
    "    \n",
    "for row in rows:\n",
    "#uncomment line below to check raw results\n",
    "#     print (row.artist_name, row.song_title, row.song_length)\n",
    "    \n",
    "    #creating lists or appending to them if they already exists\n",
    "    if 'artist_name' in q1_result:\n",
    "        q1_result['artist_name'].append(row.artist_name)\n",
    "    else:\n",
    "        q1_result['artist_name'] = [row.artist_name]\n",
    "        \n",
    "    if 'song_title'in q1_result:\n",
    "        q1_result['song_title'].append(row.song_title)\n",
    "    else:\n",
    "        q1_result['song_title'] = [row.song_title]\n",
    "        \n",
    "    if 'song_length' in q2_result:\n",
    "        q2_result['song_length'].append(row.song_length)\n",
    "    else:\n",
    "        q2_result['song_length'] = [row.song_length]\n",
    "\n",
    "#Mounting the dict into a dataframe\n",
    "df = pd.DataFrame.from_dict(q1_result)\n",
    "\n",
    "#Printing results\n",
    "df.style.set_table_attributes('style=\"font-size: 15px\"').hide_index()"
   ]
  },
  {
   "cell_type": "markdown",
   "metadata": {},
   "source": [
    "## Question 2\n",
    "\n",
    "The expected results are name of the artist, song (sorted by itemInSession) and user (first and last name) based on userId and sessionId.\n",
    "\n",
    "Since we  want to retrieve data, we're going to design a **SELECT** statement. We can translate the question into the following query :\n",
    "\n",
    "```sql\n",
    "SELECT name of the artist, title of the song, user firstname, user lastname\n",
    "FROM TABLE_NAME\n",
    "WHERE userId = 10 AND sessionId = 182\n",
    "```\n",
    "\n",
    "As we know the SELECT query and since we are working with a NoSQL database, we will now CREATE our table to effectively answer the query. We will add NOT EXISTS to the CREATE statement to check if the table exists and only create the table if it does not exist.\n",
    "\n",
    "- TABLE NAME: We will name this table **song_playlist_session** as per Rubric requirements for tables names as alphanumeric; also as the details of the table is for songs, the name seems relevant.\n",
    "- COLUMNS: We need the name of the artist, the title of the song, the user's firstname and lastname. Hence we will select and name our columns **artist_name, song_title, user_firstname, user_lastname, user_id, session_id, item_in_session**\n",
    "- PRIMARY KEY: The primary key for the table should uniquely identify each row. We need results based on **user_id** and **session_id** ; so we need these both as the primary key. We use both **user_id** and **session_id** as partition keys so sessions from the same user are stored together, and we're using **item_in_session** as a clustering column."
   ]
  },
  {
   "cell_type": "code",
   "execution_count": 139,
   "metadata": {},
   "outputs": [],
   "source": [
    "#Creating the table with appropriate columns to answer the query\n",
    "\n",
    "query = \"\"\"\n",
    "CREATE TABLE IF NOT EXISTS song_playlist_session (\n",
    "user_id INT,\n",
    "session_id INT,\n",
    "item_in_session INT,\n",
    "artist_name TEXT,\n",
    "song_title TEXT,\n",
    "user_firstname TEXT,\n",
    "user_lastname TEXT,\n",
    "PRIMARY KEY ((user_id, session_id), item_in_session)\n",
    ")\n",
    "\"\"\"\n",
    "\n",
    "try:\n",
    "    session.execute(drop_query)\n",
    "    session.execute(query)\n",
    "except Exception as e:\n",
    "    print(e)           "
   ]
  },
  {
   "cell_type": "code",
   "execution_count": 140,
   "metadata": {},
   "outputs": [],
   "source": [
    "#Inserting data into the newly created table\n",
    "\n",
    "file = 'event_datafile_new.csv'\n",
    "\n",
    "with open(file, encoding = 'utf8') as f:\n",
    "    \n",
    "    csvreader = csv.reader(f)\n",
    "    next(csvreader) # this skips the header\n",
    "    \n",
    "    for line in csvreader:\n",
    "        query = \"\"\"\n",
    "        INSERT INTO song_playlist_session (\n",
    "        user_id,\n",
    "        session_id,\n",
    "        item_in_session,\n",
    "        artist_name,\n",
    "        song_title,\n",
    "        user_firstname,\n",
    "        user_lastname\n",
    "        )\n",
    "        \"\"\"\n",
    "        query = query + \" VALUES (%s, %s, %s, %s, %s, %s, %s)\"\n",
    "        \n",
    "        try:\n",
    "            session.execute(query, (int(line[10]), int(line[8]), int(line[3]), line[0], line[9], line[1], line[4]))\n",
    "        except Exception as e:\n",
    "            print(e)"
   ]
  },
  {
   "cell_type": "markdown",
   "metadata": {},
   "source": [
    "**Question 2:** Give me only the following: name of artist, song (sorted by itemInSession) and user (first and last name) for userid = 10, sessionid = 182\n",
    "\n",
    "translates into\n",
    "\n",
    "**Query 2:**\n",
    "```sql\n",
    "SELECT artist_name, song_title, user_firstname, user_lastname\n",
    "FROM song_playlist_session\n",
    "WHERE user_id = 10 AND session_id = 182\n",
    "```"
   ]
  },
  {
   "cell_type": "code",
   "execution_count": 141,
   "metadata": {},
   "outputs": [
    {
     "data": {
      "text/html": [
       "<style  type=\"text/css\" >\n",
       "</style><table id=\"T_dd122_\" style=\"font-size: 15px\"><thead>    <tr>        <th class=\"col_heading level0 col0\" >artist_name</th>        <th class=\"col_heading level0 col1\" >song_title</th>        <th class=\"col_heading level0 col2\" >user_firstname</th>        <th class=\"col_heading level0 col3\" >user_lastname</th>    </tr></thead><tbody>\n",
       "                <tr>\n",
       "                                <td id=\"T_dd122_row0_col0\" class=\"data row0 col0\" >Down To The Bone</td>\n",
       "                        <td id=\"T_dd122_row0_col1\" class=\"data row0 col1\" >Keep On Keepin' On</td>\n",
       "                        <td id=\"T_dd122_row0_col2\" class=\"data row0 col2\" >Sylvie</td>\n",
       "                        <td id=\"T_dd122_row0_col3\" class=\"data row0 col3\" >Cruz</td>\n",
       "            </tr>\n",
       "            <tr>\n",
       "                                <td id=\"T_dd122_row1_col0\" class=\"data row1 col0\" >Three Drives</td>\n",
       "                        <td id=\"T_dd122_row1_col1\" class=\"data row1 col1\" >Greece 2000</td>\n",
       "                        <td id=\"T_dd122_row1_col2\" class=\"data row1 col2\" >Sylvie</td>\n",
       "                        <td id=\"T_dd122_row1_col3\" class=\"data row1 col3\" >Cruz</td>\n",
       "            </tr>\n",
       "            <tr>\n",
       "                                <td id=\"T_dd122_row2_col0\" class=\"data row2 col0\" >Sebastien Tellier</td>\n",
       "                        <td id=\"T_dd122_row2_col1\" class=\"data row2 col1\" >Kilometer</td>\n",
       "                        <td id=\"T_dd122_row2_col2\" class=\"data row2 col2\" >Sylvie</td>\n",
       "                        <td id=\"T_dd122_row2_col3\" class=\"data row2 col3\" >Cruz</td>\n",
       "            </tr>\n",
       "            <tr>\n",
       "                                <td id=\"T_dd122_row3_col0\" class=\"data row3 col0\" >Lonnie Gordon</td>\n",
       "                        <td id=\"T_dd122_row3_col1\" class=\"data row3 col1\" >Catch You Baby (Steve Pitron & Max Sanna Radio Edit)</td>\n",
       "                        <td id=\"T_dd122_row3_col2\" class=\"data row3 col2\" >Sylvie</td>\n",
       "                        <td id=\"T_dd122_row3_col3\" class=\"data row3 col3\" >Cruz</td>\n",
       "            </tr>\n",
       "    </tbody></table>"
      ],
      "text/plain": [
       "<pandas.io.formats.style.Styler at 0x7f598e0b7a90>"
      ]
     },
     "execution_count": 141,
     "metadata": {},
     "output_type": "execute_result"
    }
   ],
   "source": [
    "#Running this cell will execute the SELECT query and print the data retrieved from the Cassandra DB\n",
    "\n",
    "query = \"\"\"\n",
    "SELECT artist_name, song_title, user_firstname, user_lastname\n",
    "FROM song_playlist_session\n",
    "WHERE user_id = 10 AND session_id = 182\n",
    "\"\"\"\n",
    "try:\n",
    "    rows = session.execute(query)\n",
    "except Exception as e:\n",
    "    print(e)\n",
    "\n",
    "#initializing empty dict to store query results    \n",
    "q2_result = {}\n",
    "\n",
    "#Itering through the results and loading them into the dictionnary\n",
    "for row in rows:\n",
    "#uncomment line below to check raw results\n",
    "#     print (row.artist_name, row.song_title, row.user_firstname, row.user_lastname)\n",
    "\n",
    "    #creating lists or appending to them if they already exists\n",
    "    if 'artist_name' in q2_result:\n",
    "        q2_result['artist_name'].append(row.artist_name)\n",
    "    else:\n",
    "        q2_result['artist_name'] = [row.artist_name]\n",
    "        \n",
    "    if 'song_title'in q2_result:\n",
    "        q2_result['song_title'].append(row.song_title)\n",
    "    else:\n",
    "        q2_result['song_title'] = [row.song_title]\n",
    "        \n",
    "    if 'user_firstname' in q2_result:\n",
    "        q2_result['user_firstname'].append(row.user_firstname)\n",
    "    else:\n",
    "        q2_result['user_firstname'] = [row.user_firstname]\n",
    "        \n",
    "    if 'user_lastname' in q2_result:\n",
    "        q2_result['user_lastname'].append(row.user_lastname)\n",
    "    else:\n",
    "        q2_result['user_lastname'] = [row.user_lastname]\n",
    "    \n",
    "#Mounting the dict into a dataframe\n",
    "df_2 = pd.DataFrame.from_dict(q2_result)\n",
    "\n",
    "#Printing results\n",
    "df_2.style.set_table_attributes('style=\"font-size: 15px\"').hide_index()"
   ]
  },
  {
   "cell_type": "markdown",
   "metadata": {},
   "source": [
    "## Question 3\n",
    "\n",
    "The expected results are user's firstname and lastname based on the song they listened to.\n",
    "\n",
    "Since we  want to retrieve data, we're going to design a **SELECT** statement. We can translate the question into the following query :\n",
    "\n",
    "```sql\n",
    "SELECT *\n",
    "FROM user_song\n",
    "WHERE song_title = 'All Hands Against His Own'\n",
    "```\n",
    "\n",
    "As we know the SELECT query and since we are working with a NoSQL database, we will now CREATE our table to effectively answer the query. We will add NOT EXISTS to the CREATE statement to check if the table exists and only create the table if it does not exist.\n",
    "\n",
    "- TABLE NAME: We will name this table **user_song_session** as per Rubric requirements for tables names as alphanumeric; also as the details of the table is for songs, the name seems relevant.\n",
    "- COLUMNS: We need the name of the artist, the title of the song, the user's firstname and lastname. Hence we will select and name our columns **user_firstname, user_lastname, song_title, user_id**\n",
    "- PRIMARY KEY: The primary key for the table should uniquely identify each row. We need results based on **song_title** and **user_id** so we need these both as the primary key."
   ]
  },
  {
   "cell_type": "code",
   "execution_count": 142,
   "metadata": {},
   "outputs": [],
   "source": [
    "#Creating the table with appropriate columns to answer the query\n",
    "\n",
    "query = \"\"\"\n",
    "CREATE TABLE IF NOT EXISTS user_song_session (\n",
    "song_title TEXT,\n",
    "user_id INT,\n",
    "user_firstname TEXT,\n",
    "user_lastname TEXT,\n",
    "PRIMARY KEY (song_title, user_id)\n",
    ")\n",
    "\"\"\"\n",
    "try:\n",
    "    session.execute(drop_query)\n",
    "    session.execute(query)\n",
    "except Exception as e:\n",
    "    print(e) \n",
    "                    "
   ]
  },
  {
   "cell_type": "code",
   "execution_count": 143,
   "metadata": {},
   "outputs": [],
   "source": [
    "#Inserting data into the newly created table\n",
    "\n",
    "file = 'event_datafile_new.csv'\n",
    "\n",
    "with open(file, encoding = 'utf8') as f:\n",
    "    \n",
    "    csvreader = csv.reader(f)\n",
    "    next(csvreader) # this skips the header\n",
    "    \n",
    "    for line in csvreader:\n",
    "        query = \"\"\"\n",
    "        INSERT INTO user_song_session (\n",
    "        song_title,\n",
    "        user_id,\n",
    "        user_firstname,\n",
    "        user_lastname\n",
    "        )\n",
    "        \"\"\"\n",
    "        query = query + \" VALUES (%s, %s, %s, %s)\"\n",
    "        \n",
    "        try:\n",
    "            session.execute(query, (line[9], int(line[10]), line[1], line[4]))\n",
    "        except Exception as e:\n",
    "            print(e)"
   ]
  },
  {
   "cell_type": "markdown",
   "metadata": {},
   "source": [
    "**Question 3:** Give me every user name (first and last) in my music app history who listened to the song 'All Hands Against His Own'\n",
    "\n",
    "translates into\n",
    "\n",
    "**Query 3:**\n",
    "```sql\n",
    "SELECT *\n",
    "FROM user_song_session\n",
    "WHERE song_title = 'All Hands Against His Own'\n",
    "```"
   ]
  },
  {
   "cell_type": "code",
   "execution_count": 144,
   "metadata": {},
   "outputs": [
    {
     "data": {
      "text/html": [
       "<style  type=\"text/css\" >\n",
       "</style><table id=\"T_6099c_\" style=\"font-size: 15px\"><thead>    <tr>        <th class=\"col_heading level0 col0\" >user_firstname</th>        <th class=\"col_heading level0 col1\" >user_lastname</th>    </tr></thead><tbody>\n",
       "                <tr>\n",
       "                                <td id=\"T_6099c_row0_col0\" class=\"data row0 col0\" >Jacqueline</td>\n",
       "                        <td id=\"T_6099c_row0_col1\" class=\"data row0 col1\" >Lynch</td>\n",
       "            </tr>\n",
       "            <tr>\n",
       "                                <td id=\"T_6099c_row1_col0\" class=\"data row1 col0\" >Tegan</td>\n",
       "                        <td id=\"T_6099c_row1_col1\" class=\"data row1 col1\" >Levine</td>\n",
       "            </tr>\n",
       "            <tr>\n",
       "                                <td id=\"T_6099c_row2_col0\" class=\"data row2 col0\" >Sara</td>\n",
       "                        <td id=\"T_6099c_row2_col1\" class=\"data row2 col1\" >Johnson</td>\n",
       "            </tr>\n",
       "    </tbody></table>"
      ],
      "text/plain": [
       "<pandas.io.formats.style.Styler at 0x7f59c33b53a0>"
      ]
     },
     "execution_count": 144,
     "metadata": {},
     "output_type": "execute_result"
    }
   ],
   "source": [
    "#Running this cell will execute the SELECT query and print the data retrieved from the Cassandra DB\n",
    "\n",
    "query = \"\"\"\n",
    "SELECT *\n",
    "FROM user_song_session\n",
    "WHERE song_title = 'All Hands Against His Own'\n",
    "\"\"\"\n",
    "try:\n",
    "    rows = session.execute(query)\n",
    "except Exception as e:\n",
    "    print(e)\n",
    "\n",
    "#initializing empty dict to store query results      \n",
    "q3_result = {}\n",
    "    \n",
    "for row in rows:\n",
    "#uncomment line below to check raw results\n",
    "#     print (row.user_firstname, row.user_lastname)\n",
    "    \n",
    "    #creating lists or appending to them if they already exists\n",
    "    if 'user_firstname' in q3_result:\n",
    "        q3_result['user_firstname'].append(row.user_firstname)\n",
    "    else:\n",
    "        q3_result['user_firstname'] = [row.user_firstname]\n",
    "        \n",
    "    if 'user_lastname' in q3_result:\n",
    "        q3_result['user_lastname'].append(row.user_lastname)\n",
    "    else:\n",
    "        q3_result['user_lastname'] = [row.user_lastname]\n",
    "\n",
    "#Mounting the dict into a dataframe\n",
    "df_3 = pd.DataFrame.from_dict(q3_result)\n",
    "\n",
    "#Printing results\n",
    "df_3.style.set_table_attributes('style=\"font-size: 15px\"').hide_index()"
   ]
  },
  {
   "cell_type": "markdown",
   "metadata": {},
   "source": [
    "### Dropping the tables before closing out the sessions"
   ]
  },
  {
   "cell_type": "code",
   "execution_count": 145,
   "metadata": {},
   "outputs": [],
   "source": [
    "## Dropping the tables before closing out the sessions\n",
    "\n",
    "drop_song_session = \"DROP TABLE IF EXISTS song_session\"\n",
    "drop_song_playlist_session = \"DROP TABLE IF EXISTS song_playlist_session\"\n",
    "drop_user_song_session = \"DROP TABLE IF EXISTS user_song_session\"\n",
    "\n",
    "try:\n",
    "    session.execute(drop_song_session)\n",
    "    session.execute(drop_song_playlist_session)\n",
    "    session.execute(drop_user_song_session)\n",
    "except Exception as e:\n",
    "    print(e)"
   ]
  },
  {
   "cell_type": "markdown",
   "metadata": {},
   "source": [
    "### Closing the session and cluster connection¶"
   ]
  },
  {
   "cell_type": "code",
   "execution_count": 146,
   "metadata": {},
   "outputs": [],
   "source": [
    "session.shutdown()\n",
    "cluster.shutdown()"
   ]
  },
  {
   "cell_type": "markdown",
   "metadata": {},
   "source": [
    "### Cleaning step"
   ]
  },
  {
   "cell_type": "markdown",
   "metadata": {},
   "source": [
    "The following cell will stop and remove the Docker container created for this project."
   ]
  },
  {
   "cell_type": "code",
   "execution_count": 147,
   "metadata": {},
   "outputs": [
    {
     "name": "stdout",
     "output_type": "stream",
     "text": [
      "f674ca9ad583\n",
      "cass-nodeA\n",
      "cass-nodeA\n",
      "data_modeling_cassandra_cass-local-network\n",
      "NETWORK ID     NAME      DRIVER    SCOPE\n",
      "5370b6b4be51   bridge    bridge    local\n",
      "9ce1d7672488   host      host      local\n",
      "2f97e5dccf82   none      null      local\n"
     ]
    }
   ],
   "source": [
    "#Check docker container\n",
    "!docker ps\n",
    "\n",
    "#stops the container\n",
    "!docker stop cass-nodeA\n",
    "\n",
    "#removes the container\n",
    "!docker rm cass-nodeA\n",
    "\n",
    "#removes the network created for the DB\n",
    "!docker network rm data_modeling_cassandra_cass-local-network\n",
    "\n",
    "#Checks container and network have been successfully removed\n",
    "!docker ps --all --quiet\n",
    "!docker network ls"
   ]
  },
  {
   "cell_type": "code",
   "execution_count": null,
   "metadata": {},
   "outputs": [],
   "source": []
  }
 ],
 "metadata": {
  "kernelspec": {
   "display_name": "Python 3",
   "language": "python",
   "name": "python3"
  },
  "language_info": {
   "codemirror_mode": {
    "name": "ipython",
    "version": 3
   },
   "file_extension": ".py",
   "mimetype": "text/x-python",
   "name": "python",
   "nbconvert_exporter": "python",
   "pygments_lexer": "ipython3",
   "version": "3.9.5"
  }
 },
 "nbformat": 4,
 "nbformat_minor": 2
}
